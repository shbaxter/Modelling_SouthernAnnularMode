{
 "cells": [
  {
   "cell_type": "code",
   "execution_count": null,
   "id": "8d6afa93",
   "metadata": {},
   "outputs": [],
   "source": [
    "import cartopy.feature as cfeature\n",
    "import cartopy.crs as ccrs\n",
    "import matplotlib.pyplot as plt\n",
    "import matplotlib.colors as mcolors\n",
    "import matplotlib.dates as mdates\n",
    "import xarray as xr\n",
    "import pandas as pd\n",
    "import numpy as np\n",
    "\n",
    "from mpl_toolkits.axes_grid1 import make_axes_locatable\n",
    "from cartopy.mpl.gridliner import LONGITUDE_FORMATTER, LATITUDE_FORMATTER\n",
    "from matplotlib.ticker import AutoMinorLocator\n",
    "from cartopy.util import add_cyclic_point\n",
    "from matplotlib import rcParams\n",
    "import matplotlib.colors as mcolors\n",
    "from matplotlib.gridspec import GridSpec\n",
    "from cartopy.util import add_cyclic_point\n",
    "from scipy.stats import linregress\n",
    "\n",
    "import cftime\n",
    "from datetime import datetime\n",
    "\n",
    "import regionmask"
   ]
  },
  {
   "cell_type": "markdown",
   "id": "32c7aacf",
   "metadata": {},
   "source": [
    "## Historical Data"
   ]
  },
  {
   "cell_type": "code",
   "execution_count": null,
   "id": "9d9d4cd8",
   "metadata": {},
   "outputs": [],
   "source": [
    "data1 = '/Users/...UKESM1_historical_1981-2010.cvdp_data.1850-2014.nc'"
   ]
  },
  {
   "cell_type": "code",
   "execution_count": null,
   "id": "f8d48bae",
   "metadata": {},
   "outputs": [],
   "source": [
    "hist = xr.open_dataset(data1)\n",
    "hist"
   ]
  },
  {
   "cell_type": "code",
   "execution_count": null,
   "id": "784ce3f5",
   "metadata": {},
   "outputs": [],
   "source": [
    "ta_vars = [var for var in hist.variables if 'albedo' in var]\n",
    "ta_vars"
   ]
  },
  {
   "cell_type": "code",
   "execution_count": null,
   "id": "735c0319",
   "metadata": {},
   "outputs": [],
   "source": [
    "a = 'sam_ann'\n",
    "sam_ann = hist['sam_ann']\n",
    "sam_ann.plot()"
   ]
  },
  {
   "cell_type": "markdown",
   "id": "6997f796",
   "metadata": {},
   "source": [
    "## SSP Data for When Comparing to Historical "
   ]
  },
  {
   "cell_type": "code",
   "execution_count": null,
   "id": "209eeab7",
   "metadata": {},
   "outputs": [],
   "source": [
    "# ssp126\n",
    "data2 = '/Users/...SSP126/UKESM1_ssp126_1981-2010.cvdp_data.1850-2100.nc'"
   ]
  },
  {
   "cell_type": "code",
   "execution_count": null,
   "id": "05928603",
   "metadata": {},
   "outputs": [],
   "source": [
    "ssp126hist = xr.open_dataset(data2)\n",
    "ssp126hist"
   ]
  },
  {
   "cell_type": "code",
   "execution_count": null,
   "id": "52352e3c",
   "metadata": {},
   "outputs": [],
   "source": [
    "# ssp585\n",
    "data3 = '/Users/...SSP585/UKESM1_ssp585_1981-2010.cvdp_data.1850-2100.nc'"
   ]
  },
  {
   "cell_type": "code",
   "execution_count": null,
   "id": "b7cddcb2",
   "metadata": {},
   "outputs": [],
   "source": [
    "ssp585hist = xr.open_dataset(data3)\n",
    "ssp585hist"
   ]
  },
  {
   "cell_type": "markdown",
   "id": "38eebe86",
   "metadata": {},
   "source": [
    "## SSP Data for Mean Averages (2071-2100)"
   ]
  },
  {
   "cell_type": "code",
   "execution_count": null,
   "id": "6537ed5c",
   "metadata": {},
   "outputs": [],
   "source": [
    "# ssp126\n",
    "data4 = '/Users/...SSP126/UKESM1_ssp126_2071-2100.cvdp_data.1850-2100.nc'"
   ]
  },
  {
   "cell_type": "code",
   "execution_count": null,
   "id": "d66a789b",
   "metadata": {},
   "outputs": [],
   "source": [
    "ssp126mean = xr.open_dataset(data4)\n",
    "ssp126mean"
   ]
  },
  {
   "cell_type": "code",
   "execution_count": null,
   "id": "f4ee06e2",
   "metadata": {},
   "outputs": [],
   "source": [
    "# ssp585\n",
    "data5 = '/Users/...SSP585/UKESM1_ssp585_2071-2100.cvdp_data.1850-2100.nc'"
   ]
  },
  {
   "cell_type": "code",
   "execution_count": null,
   "id": "c529de04",
   "metadata": {},
   "outputs": [],
   "source": [
    "ssp585mean = xr.open_dataset(data5)\n",
    "ssp585mean"
   ]
  },
  {
   "cell_type": "code",
   "execution_count": null,
   "id": "47582c04",
   "metadata": {},
   "outputs": [],
   "source": [
    "a = 'sam_ann'\n",
    "sam_ann = ssp126mean['sam_ann']\n",
    "sam_ann.plot()"
   ]
  },
  {
   "cell_type": "code",
   "execution_count": null,
   "id": "6cc875bd",
   "metadata": {},
   "outputs": [],
   "source": [
    "a = 'sam_ann'\n",
    "sam_ann = ssp585mean['sam_ann']\n",
    "sam_ann.plot()"
   ]
  },
  {
   "cell_type": "markdown",
   "id": "c5f6d30f",
   "metadata": {},
   "source": [
    "# Figure 1: Plotting SST and SIE, SAM and SIE - Historical Timeseries"
   ]
  },
  {
   "cell_type": "code",
   "execution_count": null,
   "id": "ea455aca",
   "metadata": {},
   "outputs": [],
   "source": [
    "# SIE\n",
    "sic_var1 = 'sic_sh_extent_ann'\n",
    "sie_hist = hist[sic_var1]\n",
    "sie_hist"
   ]
  },
  {
   "cell_type": "code",
   "execution_count": null,
   "id": "61ba53be",
   "metadata": {},
   "outputs": [],
   "source": [
    "# TAS\n",
    "sst_var1 = 'tas_global_avg_ann'\n",
    "sst_hist = hist[sst_var1]\n",
    "sst_hist"
   ]
  },
  {
   "cell_type": "code",
   "execution_count": null,
   "id": "1d364972",
   "metadata": {},
   "outputs": [],
   "source": [
    "# SAM\n",
    "sam_var1 = 'sam_timeseries_ann'\n",
    "sam_hist = hist[sam_var1]\n",
    "sam_hist"
   ]
  },
  {
   "cell_type": "code",
   "execution_count": null,
   "id": "04593343",
   "metadata": {},
   "outputs": [],
   "source": [
    "# calc smoothed data\n",
    "sie_smoothed = pd.Series(sie_hist).rolling(window=5, min_periods=1).mean()\n",
    "sst_smoothed = pd.Series(sst_hist).rolling(window=5, min_periods=1).mean()\n",
    "sam_smoothed = pd.Series(sam_hist).rolling(window=5, min_periods=1).mean()\n",
    "\n",
    "# calc std from raw vals\n",
    "sie_std_raw = pd.Series(sie_hist).rolling(window=5, min_periods=1).std()\n",
    "sst_std_raw = pd.Series(sst_hist).rolling(window=5, min_periods=1).std()\n",
    "sam_std_raw = pd.Series(sam_hist).rolling(window=5, min_periods=1).std()\n",
    "\n",
    "# subplots\n",
    "fig, axs = plt.subplots(2, 1, figsize=(14, 9), sharex=True)\n",
    "\n",
    "# SIE and TAS\n",
    "color1 = 'tab:blue'\n",
    "axs[0].set_xlabel('Year', fontsize=12)\n",
    "axs[0].set_ylabel('Sea Ice Extent ($10^{12}$ m$^2$)', fontsize=12)\n",
    "sie_plot = axs[0].plot(hist['TIME'], sie_smoothed, color=color1, label='Sea Ice Extent')\n",
    "axs[0].fill_between(hist['TIME'], sie_smoothed - sie_std_raw, sie_smoothed + sie_std_raw, color=color1, alpha=0.2)\n",
    "axs[0].tick_params(axis='y')\n",
    "axs[0].yaxis.set_major_formatter(plt.FuncFormatter(lambda x, _: f'{x:.1f}'))\n",
    "axs[0].set_title('', fontsize=12)\n",
    "\n",
    "color2 = 'tab:red'\n",
    "ax2 = axs[0].twinx()\n",
    "ax2.set_ylabel('Temperature Above Surface (°C)', fontsize=12)\n",
    "sst_plot = ax2.plot(hist['TIME'], sst_smoothed, color=color2, label='Temperature Above Surface')\n",
    "ax2.fill_between(hist['TIME'], sst_smoothed - sst_std_raw, sst_smoothed + sst_std_raw, color=color2, alpha=0.2)\n",
    "ax2.tick_params(axis='y')\n",
    "ax2.yaxis.set_major_formatter(plt.FuncFormatter(lambda x, _: f'{x:.2f}'))\n",
    "\n",
    "# SAM and SIE\n",
    "color3 = 'mediumorchid'\n",
    "axs[1].set_xlabel('Year', fontsize=12)\n",
    "axs[1].set_ylabel('Sea Ice Extent ($10^{12}$ m$^2$)', fontsize=12)\n",
    "sie_plot_2 = axs[1].plot(hist['TIME'], sie_smoothed, linestyle='-', label='Sea Ice Extent')\n",
    "axs[1].fill_between(hist['TIME'], sie_smoothed - sie_std_raw, sie_smoothed + sie_std_raw, color=color1, alpha=0.2)\n",
    "axs[1].tick_params(axis='y')\n",
    "axs[1].yaxis.set_major_formatter(plt.FuncFormatter(lambda x, _: f'{x:.1f}'))\n",
    "axs[1].set_ylim(10, 16)  # y-axis limit for SIE\n",
    "\n",
    "ax3 = axs[1].twinx()\n",
    "ax3.set_ylabel('Southern Annular Mode Index', fontsize=12)\n",
    "sam_plot = ax3.plot(hist['TIME'], sam_smoothed, color=color3, label='Southern Annular Mode')\n",
    "ax3.fill_between(hist['TIME'], sam_smoothed - sam_std_raw, sam_smoothed + sam_std_raw, color=color3, alpha=0.2)\n",
    "ax3.tick_params(axis='y')\n",
    "ax3.yaxis.set_major_formatter(plt.FuncFormatter(lambda x, _: f'{x:.2f}'))\n",
    "\n",
    "# line styles, legends\n",
    "lines1, labels1 = axs[0].get_legend_handles_labels()\n",
    "lines2, labels2 = ax2.get_legend_handles_labels()\n",
    "lines3, labels3 = axs[1].get_legend_handles_labels()\n",
    "lines4, labels4 = ax3.get_legend_handles_labels()\n",
    "legend1 = axs[0].legend(lines1 + lines2, labels1 + labels2, loc='upper right', fontsize=10)\n",
    "legend2 = axs[1].legend(lines3 + lines4, labels3 + labels4, loc='upper right', fontsize=10)\n",
    "legend1.set_bbox_to_anchor((0.22, 1))\n",
    "legend2.set_bbox_to_anchor((0.195, 1))\n",
    "\n",
    "# gridlines\n",
    "for ax in axs:\n",
    "    ax.grid(which='major', linestyle='-', linewidth=0.2, color='black')\n",
    "    ax.grid(which='minor', linestyle=':', linewidth=0.15, color='black')\n",
    "    ax.set_xticks(np.arange(hist['TIME'][0], hist['TIME'][-1] + 1, 10))\n",
    "    ax.set_xticks(np.arange(hist['TIME'][0] + 5, hist['TIME'][-1] + 1, 10), minor=True)\n",
    "    ax.set_yticks(np.arange(10, 17, 1))\n",
    "    ax.set_yticks(np.arange(10.5, 16.5, 1), minor=True)\n",
    "\n",
    "plt.tight_layout()\n",
    "plt.suptitle('', fontsize=14)\n",
    "plt.show()"
   ]
  },
  {
   "cell_type": "code",
   "execution_count": null,
   "id": "aa33b63d",
   "metadata": {},
   "outputs": [],
   "source": [
    "tas_vars = [var for var in hist.variables if 'tas' in var]\n",
    "tas_vars"
   ]
  },
  {
   "cell_type": "code",
   "execution_count": null,
   "id": "a6777fb6",
   "metadata": {},
   "outputs": [],
   "source": [
    "var_11 = 'tas_global_avg_ann'\n",
    "tas = hist[var_11]\n",
    "tas.plot()"
   ]
  },
  {
   "cell_type": "code",
   "execution_count": null,
   "id": "58b88d35",
   "metadata": {},
   "outputs": [],
   "source": [
    "sst_hist.plot()"
   ]
  },
  {
   "cell_type": "code",
   "execution_count": null,
   "id": "5603e932",
   "metadata": {},
   "outputs": [],
   "source": [
    "varr = 'ipcc_ANT_ocn_tas'\n",
    "tas_ant_ocn = hist[varr]\n",
    "tas_ant_ocn.plot()"
   ]
  },
  {
   "cell_type": "code",
   "execution_count": null,
   "id": "78cd6d6e",
   "metadata": {},
   "outputs": [],
   "source": [
    "# available regions\n",
    "regionmask.defined_regions.ar6.all.plot(text_kws=dict(color=\"#67000d\", fontsize=7, bbox=dict(pad=0.2, color=\"w\")))\n",
    "print(regionmask.defined_regions.ar6.all)"
   ]
  },
  {
   "cell_type": "code",
   "execution_count": null,
   "id": "09ba63d9",
   "metadata": {},
   "outputs": [],
   "source": [
    "var_111 = 'ipcc_ENA_tas'\n",
    "tas_ENA = hist[var_111]\n",
    "tas_ENA"
   ]
  },
  {
   "cell_type": "markdown",
   "id": "fac1d188",
   "metadata": {},
   "source": [
    "### Calculating Simulation Variation for Historical SSP126 and SSP585:"
   ]
  },
  {
   "cell_type": "code",
   "execution_count": null,
   "id": "fa460f9d",
   "metadata": {},
   "outputs": [],
   "source": [
    "# sam hist\n",
    "sam_hist"
   ]
  },
  {
   "cell_type": "code",
   "execution_count": null,
   "id": "054c9a53",
   "metadata": {},
   "outputs": [],
   "source": [
    "# ssp126\n",
    "sam_var2 = 'sam_timeseries_ann'\n",
    "sam_126 = ssp126hist[sam_var2]\n",
    "sam_126"
   ]
  },
  {
   "cell_type": "code",
   "execution_count": null,
   "id": "a14f898f",
   "metadata": {},
   "outputs": [],
   "source": [
    "# ssp585\n",
    "sam_var3 = 'sam_timeseries_ann'\n",
    "sam_585 = ssp585hist[sam_var3]\n",
    "sam_585"
   ]
  },
  {
   "cell_type": "code",
   "execution_count": null,
   "id": "96c94dcf",
   "metadata": {},
   "outputs": [],
   "source": [
    "# merging timeseries into dfs for easier analysis / plotting\n",
    "df_hist = sam_hist.to_dataframe(name=\"SAM Historical\")\n",
    "df_126 = sam_126.to_dataframe(name=\"SAM SSP126\")\n",
    "df_585 = sam_585.to_dataframe(name=\"SAM SSP585\")\n",
    "\n",
    "# merging with TIME\n",
    "sam_sim_vari = pd.merge(df_hist, df_126, on=\"TIME\", how=\"outer\")\n",
    "sam_sim_vari = pd.merge(sam_sim_vari, df_585, on=\"TIME\", how=\"outer\")\n",
    "\n",
    "# reindexing for time period\n",
    "sam_sim_vari = sam_sim_vari.reindex(range(1850, 2101))\n",
    "\n",
    "# replacing NaNs > zero's\n",
    "sam_sim_vari[\"SAM Historical\"].fillna(\"0.00\", inplace=True)\n",
    "\n",
    "# column renaming\n",
    "sam_sim_vari.columns = [\"SAM Historical\", \"SAM SSP126\", \"SAM SSP585\"]\n",
    "\n",
    "sam_sim_vari.tail()"
   ]
  },
  {
   "cell_type": "code",
   "execution_count": null,
   "id": "23ec8498",
   "metadata": {},
   "outputs": [],
   "source": [
    "# adding sumlation variations\n",
    "\n",
    "# ssp126\n",
    "sam_sim_vari[\"Simulation Variation SSP126\"] = sam_sim_vari.loc[1850:2014, \"SAM SSP126\"] - df_hist.loc[1850:2014, \"SAM Historical\"]\n",
    "\n",
    "# ssp585\n",
    "sam_sim_vari[\"Simulation Variation SSP585\"] = sam_sim_vari.loc[1850:2014, \"SAM SSP585\"] - df_hist.loc[1850:2014, \"SAM Historical\"]\n",
    "\n",
    "sam_sim_vari.head()"
   ]
  },
  {
   "cell_type": "code",
   "execution_count": null,
   "id": "eea06356",
   "metadata": {},
   "outputs": [],
   "source": [
    "# converting relevant columns to numeric (had problems plotting)\n",
    "sam_sim_vari[\"SAM Historical\"] = pd.to_numeric(sam_sim_vari[\"SAM Historical\"], errors=\"coerce\")\n",
    "sam_sim_vari[\"SAM SSP126\"] = pd.to_numeric(sam_sim_vari[\"SAM SSP126\"], errors=\"coerce\")\n",
    "sam_sim_vari[\"Simulation Variation SSP126\"] = pd.to_numeric(sam_sim_vari[\"Simulation Variation SSP126\"], errors=\"coerce\")\n",
    "\n",
    "sam_sim_vari.fillna(value={\"SAM Historical\": 0, \"SAM SSP126\": 0, \"Simulation Variation SSP126\": 0}, inplace=True)\n",
    "\n",
    "# checking for inf values\n",
    "sam_sim_vari.replace([np.inf, -np.inf], np.nan, inplace=True)"
   ]
  },
  {
   "cell_type": "code",
   "execution_count": null,
   "id": "df40674a",
   "metadata": {},
   "outputs": [],
   "source": [
    "sam_sim_vari[\"SAM Historical (Rolling)\"] = sam_sim_vari[\"SAM Historical\"].rolling(window=5, min_periods=1).mean()\n",
    "\n",
    "# rolling avgs\n",
    "sam_sim_vari[\"Simulation Variation SSP126 (Rolling)\"] = sam_sim_vari[\"Simulation Variation SSP126\"].rolling(window=5, min_periods=1).mean()\n",
    "sam_sim_vari[\"Simulation Variation SSP585 (Rolling)\"] = sam_sim_vari[\"Simulation Variation SSP585\"].rolling(window=5, min_periods=1).mean()\n",
    "\n",
    "historical_start = 1850\n",
    "historical_end = 2014\n",
    "\n",
    "fig, ax = plt.subplots(figsize=(16, 5))\n",
    "\n",
    "# major / minor gridlines\n",
    "ax.grid(which='both', color='gray', linestyle='-', linewidth=0.3)\n",
    "ax.minorticks_on()\n",
    "ax.grid(which='minor', color='gray', linestyle=':', linewidth=0.1)  # Minor gridlines\n",
    "\n",
    "# SAM historical\n",
    "ax.plot(sam_sim_vari.loc[historical_start:historical_end].index, \n",
    "        sam_sim_vari.loc[historical_start:historical_end, \"SAM Historical (Rolling)\"], \n",
    "        label=\"SAM Historical\")\n",
    "\n",
    "# fill between SAM historical (rolling avg) and ssp126 variation\n",
    "ax.fill_between(sam_sim_vari.loc[historical_start:historical_end].index, \n",
    "                sam_sim_vari.loc[historical_start:historical_end, \"SAM Historical (Rolling)\"] - sam_sim_vari.loc[historical_start:historical_end, \"Simulation Variation SSP126 (Rolling)\"], \n",
    "                sam_sim_vari.loc[historical_start:historical_end, \"SAM Historical (Rolling)\"] + sam_sim_vari.loc[historical_start:historical_end, \"Simulation Variation SSP126 (Rolling)\"], \n",
    "                color='dimgray', alpha=0.5, label=\"Simulation Variation SSP126\")\n",
    "\n",
    "# fill between SAM historical (rolling avg) and ssp585 variation\n",
    "ax.fill_between(sam_sim_vari.loc[historical_start:historical_end].index, \n",
    "                sam_sim_vari.loc[historical_start:historical_end, \"SAM Historical (Rolling)\"] - sam_sim_vari.loc[historical_start:historical_end, \"Simulation Variation SSP585 (Rolling)\"], \n",
    "                sam_sim_vari.loc[historical_start:historical_end, \"SAM Historical (Rolling)\"] + sam_sim_vari.loc[historical_start:historical_end, \"Simulation Variation SSP585 (Rolling)\"], \n",
    "                color='silver', alpha=0.3, label=\"Simulation Variation SSP585\")\n",
    "\n",
    "ax.set_title(\"\")\n",
    "ax.legend(loc='upper left')\n",
    "ax.set_ylim(-2, 3.0)\n",
    "ax.set_yticks([-2, -1, 0, 1, 2, 3])\n",
    "ax.set_ylabel(\"SAM Index\")\n",
    "plt.xlabel(\"Year\")\n",
    "\n",
    "plt.tight_layout()\n",
    "plt.show()"
   ]
  },
  {
   "cell_type": "markdown",
   "id": "1c2d5f44",
   "metadata": {},
   "source": [
    "# Figure 2: Establishing Link between SAM and SST w/ Impact Across SSP Scenarios"
   ]
  },
  {
   "cell_type": "markdown",
   "id": "3b30bd05",
   "metadata": {},
   "source": [
    "## Figure 2a: SST and SAM (with regression correlation) Across All Scenarios - Historical Timeseries"
   ]
  },
  {
   "cell_type": "code",
   "execution_count": null,
   "id": "612b3732",
   "metadata": {
    "scrolled": true
   },
   "outputs": [],
   "source": [
    "# hist\n",
    "sst_reg1 = 'sam_sst_regression_ann'\n",
    "samsst_hist = hist[sst_reg1]\n",
    "samsst_hist"
   ]
  },
  {
   "cell_type": "code",
   "execution_count": null,
   "id": "27ead92e",
   "metadata": {
    "scrolled": true
   },
   "outputs": [],
   "source": [
    "# ssp126\n",
    "sst_reg2 = 'sam_sst_regression_ann'\n",
    "samsst_ssp126 = ssp126hist[sst_reg2]\n",
    "samsst_ssp126"
   ]
  },
  {
   "cell_type": "code",
   "execution_count": null,
   "id": "c805b070",
   "metadata": {
    "scrolled": true
   },
   "outputs": [],
   "source": [
    "# ssp585\n",
    "sst_reg3 = 'sam_sst_regression_ann'\n",
    "samsst_ssp585 = ssp585hist[sst_reg3]\n",
    "samsst_ssp585"
   ]
  },
  {
   "cell_type": "code",
   "execution_count": null,
   "id": "96aa120f",
   "metadata": {},
   "outputs": [],
   "source": [
    "# lat lon for plotting\n",
    "lat= hist['lat']\n",
    "lon= hist['lon']"
   ]
  },
  {
   "cell_type": "code",
   "execution_count": null,
   "id": "63e81146",
   "metadata": {},
   "outputs": [],
   "source": [
    "samsst_hist.plot()"
   ]
  },
  {
   "cell_type": "code",
   "execution_count": null,
   "id": "7c657608",
   "metadata": {},
   "outputs": [],
   "source": [
    "cmap = plt.get_cmap('PuOr')\n",
    "cmap_limits = [-2, 2]\n",
    "levels = np.linspace(cmap_limits[0], cmap_limits[1], 51)\n",
    "norm = mcolors.BoundaryNorm(boundaries=levels, ncolors=256)\n",
    "\n",
    "projection = ccrs.Orthographic(central_latitude=-90, central_longitude=0)\n",
    "transform = ccrs.PlateCarree()\n",
    "\n",
    "scenario = ['Historical', 'SSP126', 'SSP585']\n",
    "datasets = [samsst_hist, samsst_ssp126, samsst_ssp585]\n",
    "\n",
    "# subplots\n",
    "fig, axs = plt.subplots(nrows=1, ncols=3, figsize=(14, 10), subplot_kw={'projection': projection}, constrained_layout=True)\n",
    "\n",
    "tick_values = np.linspace(cmap_limits[0], cmap_limits[1], 5)\n",
    "\n",
    "for data, ax, scenario in zip(datasets, axs.flat, scenario):\n",
    "    \n",
    "    samsst_hist = data\n",
    "    # contours for sst\n",
    "    im = ax.contourf(lon, lat, samsst_hist, levels=levels, transform=transform, cmap=cmap, norm=norm)\n",
    "    # plot features\n",
    "    ax.set_title(f'SAM {scenario}')\n",
    "    ax.coastlines()\n",
    "    gl = ax.gridlines(draw_labels=True)\n",
    "\n",
    "cbar = fig.colorbar(im, ax=axs, orientation='horizontal', pad=0.05, shrink=0.8, aspect= 40, ticks=tick_values)\n",
    "cbar.set_label('Temperature (°C)')\n",
    "\n",
    "plt.show()"
   ]
  },
  {
   "cell_type": "markdown",
   "id": "b14a5c98",
   "metadata": {},
   "source": [
    "## Figure 2b: Plotting SST Across All Scenarios"
   ]
  },
  {
   "cell_type": "code",
   "execution_count": null,
   "id": "f5671297",
   "metadata": {},
   "outputs": [],
   "source": [
    "# hist\n",
    "sic_var1 = 'sic_sh_spatialmean_ann'\n",
    "sic_sh_hist1 = hist[sic_var1]\n",
    "sic_sh_hist1"
   ]
  },
  {
   "cell_type": "code",
   "execution_count": null,
   "id": "920c7869",
   "metadata": {},
   "outputs": [],
   "source": [
    "sic_sh_hist = sic_sh_hist1.where(sic_sh_hist1>0)\n",
    "sic_sh_hist.plot()"
   ]
  },
  {
   "cell_type": "code",
   "execution_count": null,
   "id": "c48db41a",
   "metadata": {},
   "outputs": [],
   "source": [
    "# ssp126\n",
    "sic_var2 = 'sic_sh_spatialmean_ann'\n",
    "sic_sh_ssp1261 = ssp126mean[sic_var2]\n",
    "sic_sh_ssp1261"
   ]
  },
  {
   "cell_type": "code",
   "execution_count": null,
   "id": "438ae103",
   "metadata": {},
   "outputs": [],
   "source": [
    "sic_sh_ssp126 = sic_sh_ssp1261.where(sic_sh_ssp1261>0)\n",
    "sic_sh_ssp126.plot()"
   ]
  },
  {
   "cell_type": "code",
   "execution_count": null,
   "id": "a3166b96",
   "metadata": {},
   "outputs": [],
   "source": [
    "# ssp585\n",
    "sic_var3 = 'sic_sh_spatialmean_ann'\n",
    "sic_sh_ssp5851 = ssp585mean[sic_var3]\n",
    "sic_sh_ssp5851"
   ]
  },
  {
   "cell_type": "code",
   "execution_count": null,
   "id": "51e175f5",
   "metadata": {},
   "outputs": [],
   "source": [
    "sic_sh_ssp585 = sic_sh_ssp5851.where(sic_sh_ssp5851>0)\n",
    "sic_sh_ssp585.plot()"
   ]
  },
  {
   "cell_type": "code",
   "execution_count": null,
   "id": "a8408b3a",
   "metadata": {},
   "outputs": [],
   "source": [
    "# lat lon for ice grid\n",
    "lon2d=hist['lon2d_ice_sh']\n",
    "lat2d=hist['lat2d_ice_sh']"
   ]
  },
  {
   "cell_type": "code",
   "execution_count": null,
   "id": "7d2fa676",
   "metadata": {},
   "outputs": [],
   "source": [
    "fig, (ax1, ax2) = plt.subplots(ncols=2, figsize=(14,4))\n",
    "lat2d.plot(ax=ax1)\n",
    "lon2d.plot(ax=ax2)"
   ]
  },
  {
   "cell_type": "code",
   "execution_count": null,
   "id": "438f1f22",
   "metadata": {},
   "outputs": [],
   "source": [
    "variables = [sic_sh_hist, sic_sh_ssp126, sic_sh_ssp585]\n",
    "scenarios = ['Historical', 'SSP126', 'SSP585']\n",
    "\n",
    "cmap = plt.get_cmap('Blues')\n",
    "projection = ccrs.Orthographic(central_latitude=-90, central_longitude=0)\n",
    "transform = ccrs.PlateCarree()\n",
    "\n",
    "bounds = np.linspace(0, 100, 6)\n",
    "norm = mcolors.BoundaryNorm(boundaries=bounds, ncolors=256)\n",
    "\n",
    "# subplots\n",
    "fig, axs = plt.subplots(1, 3, figsize=(15, 6), subplot_kw={'projection': projection}, \n",
    "                        gridspec_kw={'wspace': 0.1})\n",
    "\n",
    "for ax, var, scenario in zip(axs, variables, scenarios):\n",
    "    ax.add_feature(cfeature.LAND, zorder=1, facecolor=cfeature.COLORS['land_alt1'])\n",
    "    ax.coastlines(resolution='110m', linewidth=0.5)\n",
    "    ax.gridlines()\n",
    "\n",
    "    pcm = ax.pcolormesh(lon2d, lat2d, var, transform=transform, cmap=cmap, norm=norm)\n",
    "\n",
    "    ax.set_title(scenario)\n",
    "\n",
    "cbar_height = 0.03\n",
    "cbar_width = 0.6  \n",
    "cbar_ax = fig.add_axes([0.2, 0.06, cbar_width, cbar_height])  \n",
    "cbar = plt.colorbar(pcm, cax=cbar_ax, orientation='horizontal')\n",
    "cbar.set_label('Antarctic Sea Ice Concentration (%)')\n",
    "\n",
    "plt.show()"
   ]
  },
  {
   "cell_type": "code",
   "execution_count": null,
   "id": "7a149d21",
   "metadata": {},
   "outputs": [],
   "source": [
    "sst_vars = [var for var in hist.variables if 'tas' in var]\n",
    "sst_vars"
   ]
  },
  {
   "cell_type": "code",
   "execution_count": null,
   "id": "2c0fd6dc",
   "metadata": {},
   "outputs": [],
   "source": [
    "# hist\n",
    "tas_var1 = 'tas_spatialmean_ann'\n",
    "tas_hist_spat = hist[tas_var1]\n",
    "tas_hist_spat.plot()"
   ]
  },
  {
   "cell_type": "code",
   "execution_count": null,
   "id": "9064d621",
   "metadata": {},
   "outputs": [],
   "source": [
    "# ssp126\n",
    "tas_var2 = 'tas_spatialmean_ann'\n",
    "tas_126_spat = ssp126mean[tas_var2]\n",
    "tas_126_spat.plot()"
   ]
  },
  {
   "cell_type": "code",
   "execution_count": null,
   "id": "3889b6c5",
   "metadata": {},
   "outputs": [],
   "source": [
    "# ssp585\n",
    "tas_var3 = 'tas_spatialmean_ann'\n",
    "tas_585_spat = ssp585mean[tas_var3]\n",
    "tas_585_spat.plot()"
   ]
  },
  {
   "cell_type": "markdown",
   "id": "b483d590",
   "metadata": {},
   "source": [
    "sst_var2 = 'sst_spatialmean_ann'\n",
    "sst_hist_spat = hist[sst_var2]\n",
    "sst_hist_spat"
   ]
  },
  {
   "cell_type": "markdown",
   "id": "f6af1b16",
   "metadata": {},
   "source": [
    "sst_var3 = 'sst_spatialmean_ann'\n",
    "sst_126_spat = ssp126mean[sst_var3]\n",
    "sst_126_spat.plot()"
   ]
  },
  {
   "cell_type": "markdown",
   "id": "ab6fef36",
   "metadata": {},
   "source": [
    "sst_var4 = 'sst_spatialmean_ann'\n",
    "sst_585_spat = ssp585mean[sst_var4]\n",
    "sst_585_spat.plot()"
   ]
  },
  {
   "cell_type": "code",
   "execution_count": null,
   "id": "61f916c5",
   "metadata": {},
   "outputs": [],
   "source": [
    "lon = hist['longitude']\n",
    "lat = hist['latitude']"
   ]
  },
  {
   "cell_type": "code",
   "execution_count": null,
   "id": "8a6b1260",
   "metadata": {},
   "outputs": [],
   "source": [
    "cmap = plt.get_cmap('coolwarm')\n",
    "cmap_limits = [-80, 50]\n",
    "levels = mcolors.BoundaryNorm(boundaries=range(-80, 51, 5), ncolors=256)\n",
    "\n",
    "projection = ccrs.Orthographic(central_latitude=-90, central_longitude=0)\n",
    "transform = ccrs.PlateCarree()\n",
    "\n",
    "seasons = ['Historical', 'SSP126', 'SSP585']\n",
    "datasets = [tas_hist_spat, tas_126_spat, tas_585_spat]\n",
    "\n",
    "# subplots\n",
    "fig, axs = plt.subplots(nrows=1, ncols=3, figsize=(14, 10), subplot_kw={'projection': projection}, constrained_layout=True)\n",
    "\n",
    "for data, ax, season in zip(datasets, axs.flat, seasons):\n",
    "    lat = hist['lat']\n",
    "    lon = hist['lon']\n",
    "    \n",
    "    tas_hist_spat = data\n",
    "    # contours\n",
    "    im = ax.contourf(lon, lat, tas_hist_spat, transform=transform, cmap=cmap, norm=levels)\n",
    "    \n",
    "    ax.set_title(f'SAM {season}')\n",
    "    ax.coastlines()\n",
    "    gl = ax.gridlines(draw_labels=True)\n",
    "    \n",
    "cbar = fig.colorbar(im, ax=axs, orientation='horizontal', pad=0.05, shrink=0.8, aspect=40)\n",
    "cbar.set_label('Annual Sea Surface Temperature (C)')\n",
    "cbar.set_ticks(range(-60, 50, 10)) \n",
    "\n",
    "plt.show()"
   ]
  },
  {
   "cell_type": "markdown",
   "id": "75ddbc29",
   "metadata": {},
   "source": [
    "## Figure 2c: Plotting TAS and SIC Across All Scenarios"
   ]
  },
  {
   "cell_type": "code",
   "execution_count": null,
   "id": "3f721b32",
   "metadata": {},
   "outputs": [],
   "source": [
    "sic_variables = [sic_sh_hist, sic_sh_ssp126, sic_sh_ssp585]\n",
    "tas_variables = [tas_hist_spat, tas_126_spat, tas_585_spat]\n",
    "scenarios = ['Historical', 'SSP126', 'SSP585']\n",
    "\n",
    "fig, axs = plt.subplots(1, 3, figsize=(20, 10), subplot_kw={'projection': ccrs.Orthographic(central_latitude=-90, central_longitude=0)}, gridspec_kw={'wspace': 0.1})\n",
    "\n",
    "# sic and tas\n",
    "for ax, sic_var, tas_var, scenario in zip(axs, sic_variables, tas_variables, scenarios):\n",
    "    \n",
    "    cmap_sic = plt.get_cmap('Blues')\n",
    "    bounds_sic = np.linspace(0, 100, 6)\n",
    "    levels_sic = np.linspace(0, 100, 6)\n",
    "    cmap_tas = plt.get_cmap('bwr')\n",
    "    pcm_sic = ax.pcolormesh(lon2d, lat2d, sic_var, transform=ccrs.PlateCarree(), cmap=cmap_sic, vmin=0, vmax=100)\n",
    "\n",
    "    # tas contours\n",
    "    cf = ax.contour(lon, lat, tas_var, levels=range(-55, 35, 5), cmap=cmap_tas, linewidths=1.2, transform=ccrs.PlateCarree(), alpha=0.7)\n",
    "    # tas contours labels\n",
    "    ax.clabel(cf, fmt='%d', inline=True, fontsize=8)\n",
    "\n",
    "    ax.set_title(scenario)\n",
    "\n",
    "    ax.add_feature(cfeature.LAND, zorder=1, facecolor='lightgray')\n",
    "    ax.coastlines(resolution='110m', linewidth=0.5)\n",
    "    ax.gridlines(draw_labels=True)\n",
    "\n",
    "cbar_sic = fig.colorbar(pcm_sic, ax=axs, orientation='horizontal', pad=0.05, shrink=0.75, aspect=50)\n",
    "cbar_sic.set_label('Antarctic Sea Ice Concentration (%)')\n",
    "\n",
    "plt.show()"
   ]
  },
  {
   "cell_type": "markdown",
   "id": "b6ea41ac",
   "metadata": {},
   "source": [
    "## Figure 3a: Plotting Mean SAM and SIC Across All Scenarios"
   ]
  },
  {
   "cell_type": "code",
   "execution_count": null,
   "id": "b703a883",
   "metadata": {
    "scrolled": true
   },
   "outputs": [],
   "source": [
    "sam_vars = [var for var in hist.variables if 'sam' in var]\n",
    "sam_vars"
   ]
  },
  {
   "cell_type": "code",
   "execution_count": null,
   "id": "968467b5",
   "metadata": {},
   "outputs": [],
   "source": [
    "# hist\n",
    "sam_var1 = 'sam_ann'\n",
    "sam_hist_ann1 = hist[sam_var1]\n",
    "sam_hist_ann1"
   ]
  },
  {
   "cell_type": "code",
   "execution_count": null,
   "id": "119c7712",
   "metadata": {},
   "outputs": [],
   "source": [
    "# ssp126\n",
    "sam_var2 = 'sam_ann'\n",
    "sam_ssp126_ann1 = ssp126mean[sam_var2]\n",
    "sam_ssp126_ann1.plot()"
   ]
  },
  {
   "cell_type": "code",
   "execution_count": null,
   "id": "9e9360a6",
   "metadata": {},
   "outputs": [],
   "source": [
    "# ssp585\n",
    "sam_var3 = 'sam_ann'\n",
    "sam_ssp585_ann1 = ssp585mean[sam_var3]\n",
    "sam_ssp585_ann1.plot()"
   ]
  },
  {
   "cell_type": "code",
   "execution_count": null,
   "id": "14188b74",
   "metadata": {},
   "outputs": [],
   "source": [
    "# SIC Variables: sic_sh_hist, sic_sh_ssp126, sic_sh_ssp585"
   ]
  },
  {
   "cell_type": "code",
   "execution_count": null,
   "id": "a1ddcfe1",
   "metadata": {},
   "outputs": [],
   "source": [
    "sam_hist_ann1"
   ]
  },
  {
   "cell_type": "code",
   "execution_count": null,
   "id": "64042ae8",
   "metadata": {},
   "outputs": [],
   "source": [
    "sic_data = [sic_sh_hist, sic_sh_ssp126, sic_sh_ssp585]\n",
    "sic_seasons = ['Historical', 'SSP126', 'SSP585']\n",
    "sam_data = [sam_hist_ann1, sam_ssp126_ann1, sam_ssp585_ann1]\n",
    "sam_seasons = ['Historical', 'SSP126', 'SSP585']\n",
    "\n",
    "cmap_sic = plt.get_cmap('Blues')\n",
    "cmap_sam = plt.get_cmap('PRGn')\n",
    "cmap_limits_sam = [-5, 5]\n",
    "bounds_sic = np.linspace(0, 100, 6)\n",
    "\n",
    "# contour levels for SAM 0.5 hPa\n",
    "min_sam = np.floor(np.min([np.min(arr) for arr in sam_data]))\n",
    "max_sam = np.ceil(np.max([np.max(arr) for arr in sam_data]))\n",
    "levels_sam = np.arange(min_sam, max_sam + 0.5, 0.5)\n",
    "\n",
    "norm_sic = mcolors.BoundaryNorm(boundaries=bounds_sic, ncolors=256)\n",
    "norm_sam = mcolors.BoundaryNorm(boundaries=levels_sam, ncolors=256)\n",
    "projection = ccrs.Orthographic(central_latitude=-90, central_longitude=0)\n",
    "transform = ccrs.PlateCarree()\n",
    "\n",
    "# subplots\n",
    "fig, axs = plt.subplots(1, 3, figsize=(14, 10), subplot_kw={'projection': projection}, constrained_layout=True)\n",
    "\n",
    "for col in range(3):\n",
    "    # SIC\n",
    "    ax = axs[col]\n",
    "    ax.add_feature(cfeature.LAND, zorder=1, facecolor=cfeature.COLORS['land_alt1'])\n",
    "    ax.coastlines(resolution='110m', linewidth=0.5)\n",
    "    ax.gridlines()\n",
    "    \n",
    "    pcm_sic = ax.pcolormesh(lon2d, lat2d, sic_data[col], transform=transform, cmap=cmap_sic, norm=norm_sic)\n",
    "    ax.set_title(f'SIC {sic_seasons[col]}')\n",
    "    # setting specific region\n",
    "    ax.set_extent([lon.min() + 60, lon.max() - 30, lat.min() + 60, lat.max() - 35], crs=ccrs.PlateCarree())\n",
    "\n",
    "    # SAM contours with labels\n",
    "    cs_sam = ax.contour(lon, lat, sam_data[col], levels=levels_sam, transform=transform,\n",
    "                        cmap=cmap_sam, norm=norm_sam, alpha=1)\n",
    "    ax.clabel(cs_sam, inline=True, fontsize=8)\n",
    "\n",
    "cb_height = 0.03\n",
    "cb_pad = 1 \n",
    "\n",
    "cb_ax_sic = fig.add_axes([0.1, 0.2, 0.8, cb_height])\n",
    "cbar_sic = plt.colorbar(pcm_sic, cax=cb_ax_sic, orientation='horizontal', ticks=np.arange(0, 101, 10))\n",
    "cbar_sic.ax.tick_params(labelsize=8) \n",
    "cbar_sic.set_label('Antarctic Sea Ice Concentration (%)')\n",
    "\n",
    "plt.show()"
   ]
  },
  {
   "cell_type": "markdown",
   "id": "5aee17b2",
   "metadata": {},
   "source": [
    "## Figure 3b: Plotting Mean SAM and SIC Across All Seasonal Scenarios "
   ]
  },
  {
   "cell_type": "markdown",
   "id": "aca9d8fb",
   "metadata": {},
   "source": [
    "### Seasonal SIC for All Scenarios:"
   ]
  },
  {
   "cell_type": "code",
   "execution_count": null,
   "id": "1f0f9add",
   "metadata": {
    "scrolled": true
   },
   "outputs": [],
   "source": [
    "# hist winter\n",
    "sic_var4 = 'sic_sh_spatialmean_jja'\n",
    "sic_sh_jja1 = hist[sic_var4]\n",
    "sic_hist_winter = sic_sh_jja1.where(sic_sh_jja1>0)\n",
    "sic_hist_winter"
   ]
  },
  {
   "cell_type": "code",
   "execution_count": null,
   "id": "86738619",
   "metadata": {
    "scrolled": true
   },
   "outputs": [],
   "source": [
    "# hist summer\n",
    "sic_var5 = 'sic_sh_spatialmean_djf'\n",
    "sic_sh_djf1 = hist[sic_var5]\n",
    "sic_hist_summer = sic_sh_djf1.where(sic_sh_djf1>0)\n",
    "sic_hist_summer"
   ]
  },
  {
   "cell_type": "code",
   "execution_count": null,
   "id": "c27871b9",
   "metadata": {
    "scrolled": true
   },
   "outputs": [],
   "source": [
    "# ssp126 winter\n",
    "sic_var6 = 'sic_sh_spatialmean_jja'\n",
    "sic_sh_jja2 = ssp126mean[sic_var6]\n",
    "sic_ssp126_winter = sic_sh_jja2.where(sic_sh_jja2>0)\n",
    "sic_ssp126_winter"
   ]
  },
  {
   "cell_type": "code",
   "execution_count": null,
   "id": "0ccda952",
   "metadata": {
    "scrolled": true
   },
   "outputs": [],
   "source": [
    "# ssp126 summer\n",
    "sic_var7 = 'sic_sh_spatialmean_djf'\n",
    "sic_sh_djf2 = ssp126mean[sic_var7]\n",
    "sic_ssp126_summer = sic_sh_djf2.where(sic_sh_djf2>0)\n",
    "sic_ssp126_summer"
   ]
  },
  {
   "cell_type": "code",
   "execution_count": null,
   "id": "5686e359",
   "metadata": {
    "scrolled": true
   },
   "outputs": [],
   "source": [
    "# ssp585 winter\n",
    "sic_var8 = 'sic_sh_spatialmean_jja'\n",
    "sic_sh_jja3 = ssp585mean[sic_var8]\n",
    "sic_ssp585_winter = sic_sh_jja3.where(sic_sh_jja3>0)\n",
    "sic_ssp585_winter"
   ]
  },
  {
   "cell_type": "code",
   "execution_count": null,
   "id": "d1b1085c",
   "metadata": {
    "scrolled": true
   },
   "outputs": [],
   "source": [
    "# ssp585 summer\n",
    "sic_var9 = 'sic_sh_spatialmean_djf'\n",
    "sic_sh_djf3 = ssp585mean[sic_var9]\n",
    "sic_ssp585_summer = sic_sh_djf3.where(sic_sh_djf3>0)\n",
    "sic_ssp585_summer"
   ]
  },
  {
   "cell_type": "markdown",
   "id": "2465f5a5",
   "metadata": {},
   "source": [
    "### Seasonal SAM for All Scenarios:\n",
    "sam_djf',\n",
    " 'sam_jja"
   ]
  },
  {
   "cell_type": "code",
   "execution_count": null,
   "id": "99886b7d",
   "metadata": {
    "scrolled": true
   },
   "outputs": [],
   "source": [
    "# hist winter\n",
    "sam_var4 = 'sam_jja'\n",
    "sam_hist_winter = hist[sam_var4]\n",
    "sam_hist_winter"
   ]
  },
  {
   "cell_type": "code",
   "execution_count": null,
   "id": "005d7efa",
   "metadata": {
    "scrolled": true
   },
   "outputs": [],
   "source": [
    "# hist summer\n",
    "sam_var5 = 'sam_djf'\n",
    "sam_hist_summer = hist[sam_var5]\n",
    "sam_hist_summer"
   ]
  },
  {
   "cell_type": "code",
   "execution_count": null,
   "id": "94339f61",
   "metadata": {
    "scrolled": true
   },
   "outputs": [],
   "source": [
    "# ssp126 winter\n",
    "sam_var6 = 'sam_jja'\n",
    "sam_ssp126_winter = ssp126mean[sam_var6]\n",
    "sam_ssp126_winter"
   ]
  },
  {
   "cell_type": "code",
   "execution_count": null,
   "id": "9e5f60ef",
   "metadata": {
    "scrolled": true
   },
   "outputs": [],
   "source": [
    "# ssp126 summer\n",
    "sam_var7 = 'sam_djf'\n",
    "sam_ssp126_summer = ssp126mean[sam_var7]\n",
    "sam_ssp126_summer"
   ]
  },
  {
   "cell_type": "code",
   "execution_count": null,
   "id": "7ae4341c",
   "metadata": {
    "scrolled": true
   },
   "outputs": [],
   "source": [
    "# ssp585 summer\n",
    "sam_var8 = 'sam_djf'\n",
    "sam_ssp585_summer = ssp585mean[sam_var8]\n",
    "sam_ssp585_summer"
   ]
  },
  {
   "cell_type": "code",
   "execution_count": null,
   "id": "870404d7",
   "metadata": {},
   "outputs": [],
   "source": [
    "# ssp585 winter\n",
    "sam_var9 = 'sam_jja'\n",
    "sam_ssp585_winter = ssp585mean[sam_var9]\n",
    "sam_ssp585_winter"
   ]
  },
  {
   "cell_type": "code",
   "execution_count": null,
   "id": "35f1e458",
   "metadata": {},
   "outputs": [],
   "source": [
    "# lat lon for ice grid\n",
    "lon2d=hist['lon2d_ice_sh']\n",
    "lat2d=hist['lat2d_ice_sh']"
   ]
  },
  {
   "cell_type": "code",
   "execution_count": null,
   "id": "69c86ecb",
   "metadata": {},
   "outputs": [],
   "source": [
    "lat= hist['lat']\n",
    "lon= hist['lon']"
   ]
  },
  {
   "cell_type": "code",
   "execution_count": null,
   "id": "b1f519f2",
   "metadata": {
    "scrolled": true
   },
   "outputs": [],
   "source": [
    "#sic_data = [sic_sh_hist, sic_sh_ssp126, sic_sh_ssp585]\n",
    "#sic_seasons = ['Historical', 'SSP126', 'SSP585']\n",
    "#sam_data = [sam_hist_ann1, sam_ssp126_ann1, sam_ssp585_ann1]\n",
    "#sam_seasons = ['Historical', 'SSP126', 'SSP585']\n",
    "\n",
    "sic_data = [sic_sh_hist, sic_sh_ssp126, sic_sh_ssp585, sic_hist_winter, sic_ssp126_winter, sic_ssp585_winter, sic_hist_summer, sic_ssp126_summer, sic_ssp585_summer]\n",
    "sic_seasons = ['Historical Annual', 'SSP126 Annual', 'SSP585 Annual', 'Historical Winter', 'SSP126 Winter', 'SSP585 Winter', 'Historical Summer', 'SSP126 Summer', 'SSP585 Summer']\n",
    "\n",
    "sam_data = [sam_hist_ann1, sam_ssp126_ann1, sam_ssp585_ann1, sam_hist_winter, sam_ssp126_winter, sam_ssp585_winter, sam_hist_summer, sam_ssp126_summer, sam_ssp585_summer]\n",
    "sam_seasons = ['Historical Annual', 'SSP126 Annual', 'SSP585Annual', 'Historical Winter', 'SSP126 Winter', 'SSP585 Winter', 'Historical Summer', 'SSP126 Summer', 'SSP585 Summer']\n",
    "\n",
    "cmap_sic = plt.get_cmap('Blues')\n",
    "cmap_sam = plt.get_cmap('PRGn')\n",
    "bounds_sic = np.linspace(0, 100, 6)\n",
    "\n",
    "# contours for SAM 0.5 hPa intervals\n",
    "min_sam = np.floor(np.min(sam_data))\n",
    "max_sam = np.ceil(np.max(sam_data))\n",
    "levels_sam = np.arange(min_sam, max_sam + 0.5, 0.5)\n",
    "\n",
    "norm_sic = mcolors.BoundaryNorm(boundaries=bounds_sic, ncolors=256)\n",
    "norm_sam = mcolors.BoundaryNorm(boundaries=levels_sam, ncolors=256)\n",
    "\n",
    "# subplots\n",
    "fig, axs = plt.subplots(3, 3, figsize=(20, 15), subplot_kw={'projection': ccrs.Orthographic(central_latitude=-90, central_longitude=0)}, constrained_layout=True, gridspec_kw={'wspace': 0.01})\n",
    "\n",
    "for idx, (sic_var, sam_var, sic_season, sam_season) in enumerate(zip(sic_data, sam_data, sic_seasons, sam_seasons)):\n",
    "    row_idx = idx // 3  # row index\n",
    "    col_idx = idx % 3  # column index\n",
    "\n",
    "    ax = axs[row_idx, col_idx]\n",
    "\n",
    "    # SIC\n",
    "    pcm_sic = ax.pcolormesh(lon2d, lat2d, sic_var, transform=ccrs.PlateCarree(), cmap=cmap_sic, norm=norm_sic)\n",
    "    ax.set_title(f'SIC {sic_season}')\n",
    "    ax.coastlines(resolution='110m', linewidth=0.5)\n",
    "    ax.gridlines()\n",
    "    ax.set_extent([lon.min() + 60, lon.max() - 30, lat.min() + 60, lat.max() - 35], crs=ccrs.PlateCarree())\n",
    "\n",
    "    # SAM with contours\n",
    "    cs_sam = ax.contour(lon, lat, sam_var, levels=levels_sam, transform=ccrs.PlateCarree(), cmap=cmap_sam, norm=norm_sam, alpha = 0.6)\n",
    "    ax.clabel(cs_sam, inline=True, fontsize=8)  # contour labels\n",
    "\n",
    "cb_width = 0.01 \n",
    "cb_pad = 0.01\n",
    "\n",
    "cb_ax_sic = fig.add_axes([0.01, 0.01, cb_width, 1]) \n",
    "cbar_sic = plt.colorbar(pcm_sic, cax=cb_ax_sic)\n",
    "cbar_sic.ax.tick_params(labelsize=8)\n",
    "cbar_sic.set_label('Antarctic Sea Ice Concentration (%)')\n",
    "\n",
    "plt.show()"
   ]
  },
  {
   "cell_type": "markdown",
   "id": "989a73bd",
   "metadata": {},
   "source": [
    "## Figure 3c: Multiple timeseries Showing Monthly SAM and SIC With Different Time Scales"
   ]
  },
  {
   "cell_type": "code",
   "execution_count": null,
   "id": "abe401a0",
   "metadata": {},
   "outputs": [],
   "source": [
    "# sam hist timeseries\n",
    "sam_var10 = 'sam_timeseries_mon'\n",
    "sam_hist_trend = hist[sam_var10]\n",
    "sam_hist_trend"
   ]
  },
  {
   "cell_type": "code",
   "execution_count": null,
   "id": "060e88b9",
   "metadata": {},
   "outputs": [],
   "source": [
    "# sam ssp126 timeseries\n",
    "sam_var11 = 'sam_timeseries_mon'\n",
    "sam_ssp126_trend = ssp126hist[sam_var11]\n",
    "sam_ssp126_trend"
   ]
  },
  {
   "cell_type": "code",
   "execution_count": null,
   "id": "fc617480",
   "metadata": {},
   "outputs": [],
   "source": [
    "# sam ssp585 timeseries\n",
    "sam_var12 = 'sam_timeseries_mon'\n",
    "sam_ssp585_trend = ssp585hist[sam_var12]\n",
    "sam_ssp585_trend"
   ]
  },
  {
   "cell_type": "code",
   "execution_count": null,
   "id": "50652a41",
   "metadata": {},
   "outputs": [],
   "source": [
    "# switching to df to understand data and make averaging easier\n",
    "sam_hist_df = sam_hist_trend.to_dataframe(name='SAM_Hist')\n",
    "\n",
    "print(sam_hist_df)"
   ]
  },
  {
   "cell_type": "code",
   "execution_count": null,
   "id": "acde20ef",
   "metadata": {},
   "outputs": [],
   "source": [
    "datetime_index = [date.strftime('%Y-%m-%d') for date in sam_hist_df.index]\n",
    "\n",
    "# indexing\n",
    "sam_hist_df.index = pd.to_datetime(datetime_index)\n",
    "\n",
    "# setting time period for 2004-2014\n",
    "start_date = '1981-01-01'\n",
    "end_date = '2010-12-31'\n",
    "sam_hist_subset = sam_hist_df.loc[(sam_hist_df.index >= start_date) & (sam_hist_df.index <= end_date)]\n",
    "\n",
    "print(sam_hist_subset)"
   ]
  },
  {
   "cell_type": "code",
   "execution_count": null,
   "id": "a66d50ba",
   "metadata": {},
   "outputs": [],
   "source": [
    "# changing to month\n",
    "sam_hist_subset['Month'] = sam_hist_subset.index.strftime('%B')\n",
    "\n",
    "# grouping by month, calc monthly avgs\n",
    "monthly_avg = sam_hist_subset.groupby('Month')['SAM_Hist'].mean().reset_index()\n",
    "\n",
    "print(monthly_avg)"
   ]
  },
  {
   "cell_type": "code",
   "execution_count": null,
   "id": "d5fb65df",
   "metadata": {},
   "outputs": [],
   "source": [
    "# setting to 8d.p.\n",
    "pd.options.display.float_format = '{:.8f}'.format\n",
    "\n",
    "monthly_avg.head(12)"
   ]
  },
  {
   "cell_type": "code",
   "execution_count": null,
   "id": "574bae0a",
   "metadata": {},
   "outputs": [],
   "source": [
    "sam_126_df = sam_ssp126_trend.to_dataframe(name='SAM_126')\n",
    "\n",
    "print(sam_126_df)"
   ]
  },
  {
   "cell_type": "code",
   "execution_count": null,
   "id": "38348cbc",
   "metadata": {},
   "outputs": [],
   "source": [
    "datetime_index2 = [date.strftime('%Y-%m-%d') for date in sam_126_df.index]\n",
    "\n",
    "# indexing\n",
    "sam_126_df.index = pd.to_datetime(datetime_index2)\n",
    "\n",
    "# setting time period for 2071-2100\n",
    "start_date = '2071-01-01'\n",
    "end_date = '2100-12-31'\n",
    "sam_126_subset = sam_126_df.loc[(sam_126_df.index >= start_date) & (sam_126_df.index <= end_date)]\n",
    "\n",
    "sam_126_subset.head(13)"
   ]
  },
  {
   "cell_type": "code",
   "execution_count": null,
   "id": "00d416ea",
   "metadata": {},
   "outputs": [],
   "source": [
    "mean_sam_126 = sam_126_subset['SAM_126'].mean()\n",
    "std_sam_126 = sam_126_subset['SAM_126'].std()\n",
    "\n",
    "print(\"Mean average of SAM_126:\", mean_sam_126)\n",
    "print(\"Standard deviation of SAM_126:\", std_sam_126)\n"
   ]
  },
  {
   "cell_type": "code",
   "execution_count": null,
   "id": "6633ed43",
   "metadata": {},
   "outputs": [],
   "source": [
    "sam_585_df = sam_ssp585_trend.to_dataframe(name='SAM_585')\n",
    "\n",
    "sam_585_df.head()"
   ]
  },
  {
   "cell_type": "code",
   "execution_count": null,
   "id": "a79ba1a5",
   "metadata": {},
   "outputs": [],
   "source": [
    "datetime_index3 = [date.strftime('%Y-%m-%d') for date in sam_585_df.index]\n",
    "\n",
    "# indexing\n",
    "sam_585_df.index = pd.to_datetime(datetime_index3)\n",
    "\n",
    "# setting time period 2071-2100\n",
    "start_date = '2071-01-01'\n",
    "end_date = '2100-12-31'\n",
    "sam_585_subset = sam_585_df.loc[(sam_585_df.index >= start_date) & (sam_585_df.index <= end_date)]\n",
    "\n",
    "sam_585_subset.head()"
   ]
  },
  {
   "cell_type": "code",
   "execution_count": null,
   "id": "2ecbc910",
   "metadata": {},
   "outputs": [],
   "source": [
    "mean_sam_585 = sam_585_subset['SAM_585'].mean()\n",
    "std_sam_585 = sam_585_subset['SAM_585'].std()\n",
    "\n",
    "print(\"Mean average of SAM_585:\", mean_sam_585)\n",
    "print(\"Standard deviation of SAM_585\", std_sam_585)"
   ]
  },
  {
   "cell_type": "code",
   "execution_count": null,
   "id": "6f7ff645",
   "metadata": {},
   "outputs": [],
   "source": [
    "sam_585_subset['Month'] = sam_585_subset.index.month\n",
    "\n",
    "# grouping by month and calc avgs\n",
    "monthly_avg_585 = sam_585_subset.groupby('Month')['SAM_PC'].mean().reset_index()\n",
    "\n",
    "# new df\n",
    "monthly_avg585_df = pd.DataFrame({\n",
    "    'Month': monthly_avg['Month'],\n",
    "    'SAM_Mean585': monthly_avg['SAM_PC']\n",
    "})\n",
    "\n",
    "monthly_avg_585['Month'] = pd.to_datetime(monthly_avg_585['Month'], format='%m').dt.strftime('%B')\n",
    "\n",
    "monthly_avg_585.head(13)"
   ]
  },
  {
   "cell_type": "code",
   "execution_count": null,
   "id": "f9cb6176",
   "metadata": {},
   "outputs": [],
   "source": [
    "# merging dfs with month\n",
    "sam_mon_avgf = pd.merge(monthly_avg, monthly_avg_585, on='Month')\n",
    "sam_mon_avgf = pd.merge(monthly_avg, monthly_avg_126, on='Month')\n",
    "\n",
    "sam_mon_avgf = sam_mon_avgf.rename(columns={'SAM_Mon_Mean': 'SAM_Hist', 'SAM_PC_x': 'SAM_585', 'SAM_PC_y': 'SAM_126'})\n",
    "\n",
    "sam_mon_avgf.head(13)"
   ]
  },
  {
   "cell_type": "code",
   "execution_count": null,
   "id": "4be09f9c",
   "metadata": {},
   "outputs": [],
   "source": [
    "# SAM_585 - SAM_Hist each month\n",
    "sam_mon_avgf['SAM_585_Anom'] = sam_mon_avgf['SAM_585'] - sam_mon_avgf['SAM_Hist']\n",
    "\n",
    "# SAM_126 - SAM_Hist each month\n",
    "sam_mon_avgf['SAM_126_Anom'] = sam_mon_avgf['SAM_126'] - sam_mon_avgf['SAM_Hist']\n",
    "\n",
    "# new df with calcs\n",
    "SAM_Future_Mon_AvgAnom = pd.DataFrame({\n",
    "    'Month': sam_mon_avgf['Month'],\n",
    "    'SAM_585_Anom': sam_mon_avgf['SAM_585_Anom'],\n",
    "    'SAM_126_Anom': sam_mon_avgf['SAM_126_Anom']\n",
    "})\n",
    "\n",
    "print(SAM_Future_Mon_AvgAnom)"
   ]
  },
  {
   "cell_type": "code",
   "execution_count": null,
   "id": "2094e636",
   "metadata": {},
   "outputs": [],
   "source": [
    "sie_variables = [var for var in hist.variables if 'sic_sh' in var]\n",
    "sie_variables"
   ]
  },
  {
   "cell_type": "code",
   "execution_count": null,
   "id": "c74c8635",
   "metadata": {},
   "outputs": [],
   "source": [
    "# hist\n",
    "sie_var1 = 'sic_sh_extent_mon'\n",
    "sie_hist_mon = hist[sie_var1]\n",
    "sie_hist_mon"
   ]
  },
  {
   "cell_type": "code",
   "execution_count": null,
   "id": "f59fcdac",
   "metadata": {},
   "outputs": [],
   "source": [
    "# ssp126\n",
    "sie_var2 = 'sic_sh_extent_mon'\n",
    "sie_126_mon = ssp126hist[sie_var2]\n",
    "sie_126_mon"
   ]
  },
  {
   "cell_type": "code",
   "execution_count": null,
   "id": "f5e60cfb",
   "metadata": {},
   "outputs": [],
   "source": [
    "# ssp585\n",
    "sie_var3 = 'sic_sh_extent_mon'\n",
    "sie_585_mon = ssp585hist[sie_var3]\n",
    "sie_585_mon"
   ]
  },
  {
   "cell_type": "code",
   "execution_count": null,
   "id": "5276356d",
   "metadata": {},
   "outputs": [],
   "source": [
    "sie_hist_df = sie_hist_mon.to_dataframe(name='SIE')\n",
    "\n",
    "print(sie_hist_df)"
   ]
  },
  {
   "cell_type": "code",
   "execution_count": null,
   "id": "3662bf02",
   "metadata": {},
   "outputs": [],
   "source": [
    "datetime_index4 = [date.strftime('%Y-%m-%d') for date in sie_hist_df.index]\n",
    "\n",
    "# indexing\n",
    "sie_hist_df.index = pd.to_datetime(datetime_index4)\n",
    "\n",
    "# time period 1981-2010\n",
    "start_date = '1981-01-01'\n",
    "end_date = '2010-12-31'\n",
    "sie_hist_subset = sie_hist_df.loc[(sie_hist_df.index >= start_date) & (sie_hist_df.index <= end_date)]\n",
    "\n",
    "sie_hist_subset.head(13)"
   ]
  },
  {
   "cell_type": "code",
   "execution_count": null,
   "id": "9f6b9da8",
   "metadata": {},
   "outputs": [],
   "source": [
    "sie_hist_subset['Month'] = sie_hist_subset.index.month\n",
    "\n",
    "# grouping by month, calc avg SIE\n",
    "siemonthly_avg_hist = sie_hist_subset.groupby('Month')['SIE'].mean().reset_index()\n",
    "\n",
    "# new df with SIE values\n",
    "siemonthly_avg_hist = pd.DataFrame({\n",
    "    'Month': siemonthly_avg_hist['Month'],\n",
    "    'SIE_Mean': siemonthly_avg_hist['SIE']\n",
    "})\n",
    "\n",
    "siemonthly_avg_hist['Month'] = pd.to_datetime(siemonthly_avg_hist['Month'], format='%m').dt.strftime('%B')\n",
    "\n",
    "siemonthly_avg_hist.head(13)"
   ]
  },
  {
   "cell_type": "code",
   "execution_count": null,
   "id": "4b216f42",
   "metadata": {},
   "outputs": [],
   "source": [
    "sie_126_df = sie_126_mon.to_dataframe(name='SIE')\n",
    "\n",
    "print(sie_126_df)"
   ]
  },
  {
   "cell_type": "code",
   "execution_count": null,
   "id": "244a4c8b",
   "metadata": {},
   "outputs": [],
   "source": [
    "datetime_index5 = [date.strftime('%Y-%m-%d') for date in sie_126_df.index]\n",
    "\n",
    "# indexing\n",
    "sie_126_df.index = pd.to_datetime(datetime_index5)\n",
    "\n",
    "# time period 2071-2100\n",
    "start_date = '2071-01-01'\n",
    "end_date = '2100-12-31'\n",
    "sie_126_subset = sie_126_df.loc[(sie_126_df.index >= start_date) & (sie_126_df.index <= end_date)]\n",
    "\n",
    "sie_126_subset.head(13)"
   ]
  },
  {
   "cell_type": "code",
   "execution_count": null,
   "id": "8c57f249",
   "metadata": {},
   "outputs": [],
   "source": [
    "sie_126_subset['Month'] = sie_126_subset.index.month\n",
    "\n",
    "# grouping by month, calc avg SIE\n",
    "siemonthly_avg_126 = sie_126_subset.groupby('Month')['SIE'].mean().reset_index()\n",
    "\n",
    "# new df with month and average SIE\n",
    "siemonthly_avg_126 = pd.DataFrame({\n",
    "    'Month': siemonthly_avg_126['Month'],\n",
    "    'SIE_Mean126': siemonthly_avg_126['SIE']\n",
    "})\n",
    "\n",
    "siemonthly_avg_126['Month'] = pd.to_datetime(siemonthly_avg_126['Month'], format='%m').dt.strftime('%B')\n",
    "\n",
    "siemonthly_avg_126.head(13)"
   ]
  },
  {
   "cell_type": "code",
   "execution_count": null,
   "id": "d63b1b33",
   "metadata": {},
   "outputs": [],
   "source": [
    "sie_585_df = sie_585_mon.to_dataframe(name='SIE')\n",
    "\n",
    "print(sie_585_df)"
   ]
  },
  {
   "cell_type": "code",
   "execution_count": null,
   "id": "52ea2add",
   "metadata": {},
   "outputs": [],
   "source": [
    "datetime_index6 = [date.strftime('%Y-%m-%d') for date in sie_585_df.index]\n",
    "\n",
    "# indexing\n",
    "sie_585_df.index = pd.to_datetime(datetime_index6)\n",
    "\n",
    "# time period 2071-2100\n",
    "start_date = '2071-01-01'\n",
    "end_date = '2100-12-31'\n",
    "sie_585_subset = sie_585_df.loc[(sie_585_df.index >= start_date) & (sie_585_df.index <= end_date)]\n",
    "\n",
    "sie_585_subset.head(13)"
   ]
  },
  {
   "cell_type": "code",
   "execution_count": null,
   "id": "6ffbc3bd",
   "metadata": {},
   "outputs": [],
   "source": [
    "sie_585_subset['Month'] = sie_585_subset.index.month\n",
    "\n",
    "# grouping by month, calc avg SIE\n",
    "siemonthly_avg_585 = sie_585_subset.groupby('Month')['SIE'].mean().reset_index()\n",
    "\n",
    "# new df with month and average SIE\n",
    "siemonthly_avg_585 = pd.DataFrame({\n",
    "    'Month': siemonthly_avg_585['Month'],\n",
    "    'SIE_Mean585': siemonthly_avg_585['SIE']\n",
    "})\n",
    "\n",
    "siemonthly_avg_585['Month'] = pd.to_datetime(siemonthly_avg_585['Month'], format='%m').dt.strftime('%B')\n",
    "\n",
    "siemonthly_avg_585.head(13)"
   ]
  },
  {
   "cell_type": "code",
   "execution_count": null,
   "id": "58e1c2e5",
   "metadata": {},
   "outputs": [],
   "source": [
    "# merging dfs across month\n",
    "sie_mon_avgf = pd.merge(siemonthly_avg_hist, siemonthly_avg_585, on='Month')\n",
    "sie_mon_avgf = pd.merge(sie_mon_avgf, siemonthly_avg_126, on='Month')\n",
    "\n",
    "# renaming columns\n",
    "sie_mon_avgf = sie_mon_avgf.rename(columns={'SIE_Mon_Mean': 'SIE_Hist', 'SIE_': 'SAM_585', 'SAM_PC_y': 'SAM_126'})\n",
    "\n",
    "sie_mon_avgf.head(13)"
   ]
  },
  {
   "cell_type": "code",
   "execution_count": null,
   "id": "60e2acd0",
   "metadata": {},
   "outputs": [],
   "source": [
    "# SIE_585 - SIE_Hist for each month\n",
    "sie_mon_avgf['SIE_585_Anom'] = sie_mon_avgf['SIE_Mean585'] - sie_mon_avgf['SIE_Mean']\n",
    "\n",
    "# SIE_126 - SIE_Hist for each month\n",
    "sie_mon_avgf['SIE_126_Anom'] = sie_mon_avgf['SIE_Mean126'] - sie_mon_avgf['SIE_Mean']\n",
    "\n",
    "# new df with Month column and calcd avgs\n",
    "SIE_Future_Mon_AvgAnom = pd.DataFrame({\n",
    "    'Month': sie_mon_avgf['Month'],\n",
    "    'SIE_585_Anom': sie_mon_avgf['SIE_585_Anom'],\n",
    "    'SIE_126_Anom': sie_mon_avgf['SIE_126_Anom']\n",
    "})\n",
    "\n",
    "print(SIE_Future_Mon_AvgAnom.head)"
   ]
  },
  {
   "cell_type": "code",
   "execution_count": null,
   "id": "a425bc5a",
   "metadata": {},
   "outputs": [],
   "source": [
    "SAM_SIE_Anom_df = pd.merge(SAM_Future_Mon_AvgAnom, SIE_Future_Mon_AvgAnom, on='Month')\n",
    "\n",
    "print(SAM_SIE_Anom_df)"
   ]
  },
  {
   "cell_type": "code",
   "execution_count": null,
   "id": "bc8fe1e4",
   "metadata": {},
   "outputs": [],
   "source": [
    "fig, ax1 = plt.subplots(figsize=(14, 3))\n",
    "\n",
    "sie_585_anom_line, = ax1.plot(SAM_SIE_Anom_df['Month'], SAM_SIE_Anom_df['SIE_585_Anom'], color='darkcyan', label='SIE_585_Anom')\n",
    "ax1.set_ylabel('Sea Ice Extent ($10^{12}$ m$^2$)')\n",
    "\n",
    "ax2 = ax1.twinx()\n",
    "\n",
    "sam_585_anom_line, = ax2.plot(SAM_SIE_Anom_df['Month'], SAM_SIE_Anom_df['SAM_585_Anom'], color='indianred', label='SAM_585_Anom')\n",
    "ax2.set_ylabel('Southern Annular Mode Index')\n",
    "\n",
    "ax1.set_xlabel('Month')\n",
    "\n",
    "ax1.set_ylim(-9.0, 4.2)\n",
    "ax2.set_ylim(-0.2, 1.2)\n",
    "\n",
    "legend_handles = [sie_585_anom_line, sam_585_anom_line]\n",
    "legend_labels = ['Sea Ice Extent', 'Southern Annular Mode Index']\n",
    "ax1.legend(legend_handles, legend_labels, loc='upper left')\n",
    "\n",
    "ax1.grid(True)\n",
    "\n",
    "plt.show()"
   ]
  },
  {
   "cell_type": "code",
   "execution_count": null,
   "id": "0e2dad27",
   "metadata": {},
   "outputs": [],
   "source": [
    "fig, ax1 = plt.subplots(figsize=(14, 3))\n",
    "\n",
    "sie_126_anom_line, = ax1.plot(SAM_SIE_Anom_df['Month'], SAM_SIE_Anom_df['SIE_126_Anom'], color='darkcyan', label='SIE_126_Anom')\n",
    "ax1.set_ylabel('Sea Ice Extent ($10^{12}$ m$^2$)')\n",
    "\n",
    "ax2 = ax1.twinx()\n",
    "\n",
    "sam_126_anom_line, = ax2.plot(SAM_SIE_Anom_df['Month'], SAM_SIE_Anom_df['SAM_126_Anom'], color='orangered', label='SAM_126_Anom')\n",
    "ax2.set_ylabel('Southern Annular Mode Index')\n",
    "\n",
    "ax1.set_xlabel('Month')\n",
    "\n",
    "ax1.set_ylim(-1.8, -0.8)\n",
    "ax2.set_ylim(-1.0, 1.2)\n",
    "\n",
    "legend_handles = [sie_126_anom_line, sam_126_anom_line]\n",
    "legend_labels = ['Sea Ice Extent', 'Southern Annular Mode Index']\n",
    "ax1.legend(legend_handles, legend_labels, loc='upper left')\n",
    "\n",
    "ax1.grid(True)\n",
    "\n",
    "plt.show()"
   ]
  },
  {
   "cell_type": "markdown",
   "id": "bc96b5bb",
   "metadata": {},
   "source": [
    "## Redo: Figure 2a - Plotting TAS and SST Regressed with SAM as timeseries"
   ]
  },
  {
   "cell_type": "code",
   "execution_count": null,
   "id": "8f861b20",
   "metadata": {},
   "outputs": [],
   "source": [
    "sam_vars"
   ]
  },
  {
   "cell_type": "code",
   "execution_count": null,
   "id": "47ff0e10",
   "metadata": {},
   "outputs": [],
   "source": [
    "sam_var10 = 'sam_sst_regression_ann'\n",
    "sam_sst_reg_hist = hist[sam_var10]\n",
    "sam_sst_reg_hist.plot()"
   ]
  },
  {
   "cell_type": "code",
   "execution_count": null,
   "id": "bbe5551d",
   "metadata": {},
   "outputs": [],
   "source": [
    "sie_126_df2 = sie_126_mon.to_dataframe(name='SIE126')\n",
    "\n",
    "sie_126_df2.head(13)"
   ]
  },
  {
   "cell_type": "code",
   "execution_count": null,
   "id": "7eaec832",
   "metadata": {},
   "outputs": [],
   "source": [
    "sam_126_df2 = sam_ssp126_trend.to_dataframe(name='SAM126')\n",
    "\n",
    "sam_126_df2.head(13)"
   ]
  },
  {
   "cell_type": "code",
   "execution_count": null,
   "id": "d60a7a8f",
   "metadata": {},
   "outputs": [],
   "source": [
    "sam_sie_df = pd.merge(sie_126_df2, sam_126_df2, left_index=True, right_index=True)\n",
    "\n",
    "# time as seperate column\n",
    "sam_sie_df.reset_index(inplace=True)\n",
    "\n",
    "print(sam_sie_df)"
   ]
  },
  {
   "cell_type": "code",
   "execution_count": null,
   "id": "b532e598",
   "metadata": {},
   "outputs": [],
   "source": [
    "# making new df\n",
    "sam_sie_df['time'] = pd.to_datetime(sam_sie_df['time'].astype(str))\n",
    "\n",
    "sam_sie_df['Year'] = sam_sie_df['time'].dt.year\n",
    "\n",
    "# grouping by year with max SIE126 value within each year\n",
    "max_sie_idx = sam_sie_df.groupby('Year')['SIE126'].idxmax()\n",
    "\n",
    "# new df with max SIE126 and corresponding SAM126 value\n",
    "MaxSIE_SAM_df = sam_sie_df.loc[max_sie_idx, ['Year', 'SIE126', 'SAM126']]\n",
    "\n",
    "print(MaxSIE_SAM_df)"
   ]
  },
  {
   "cell_type": "code",
   "execution_count": null,
   "id": "36e3662e",
   "metadata": {},
   "outputs": [],
   "source": [
    "MaxSIE_SAM_df['SIE126_rolling'] = MaxSIE_SAM_df['SIE126'].rolling(window=5, min_periods=1).mean()\n",
    "MaxSIE_SAM_df['SAM126_rolling'] = MaxSIE_SAM_df['SAM126'].rolling(window=5, min_periods=1).mean()\n",
    "\n",
    "fig, ax1 = plt.subplots(figsize=(16, 5))\n",
    "\n",
    "# rolling averages\n",
    "line1, = ax1.plot(MaxSIE_SAM_df['Year'], MaxSIE_SAM_df['SIE126_rolling'], color='darkcyan', label='Maximum Sea Ice Extent', alpha=1)\n",
    "\n",
    "# shaded areas as raw data\n",
    "ax1.fill_between(MaxSIE_SAM_df['Year'], MaxSIE_SAM_df['SIE126'], MaxSIE_SAM_df['SIE126_rolling'], color='darkcyan', alpha=0.2)\n",
    "\n",
    "ax1.set_xlabel('Year', fontsize=14)\n",
    "ax1.set_ylabel('Sea Ice Extent ($10^{12}$ m$^2$)', color='black', fontsize=14)\n",
    "ax1.tick_params(axis='y', labelcolor='black')\n",
    "\n",
    "ax1.set_yticks(range(10, 23, 2))\n",
    "\n",
    "ax1.set_ylim(10, 22)\n",
    "\n",
    "ax2 = ax1.twinx()\n",
    "line2, = ax2.plot(MaxSIE_SAM_df['Year'], MaxSIE_SAM_df['SAM126_rolling'], color='blue', label='Southern Annular Mode', alpha=0.3)\n",
    "\n",
    "ax2.fill_between(MaxSIE_SAM_df['Year'], MaxSIE_SAM_df['SAM126'], MaxSIE_SAM_df['SAM126_rolling'], color='blue', alpha=0.05)\n",
    "\n",
    "ax2.set_ylabel('Southern Annular Mode Index', color='black', fontsize=14)\n",
    "ax2.tick_params(axis='y', labelcolor='black')\n",
    "\n",
    "ax2.set_ylim(-3.2, 2)\n",
    "\n",
    "ax1.grid(axis='y', color='gray', linestyle='--')\n",
    "ax1.grid(axis='x', color='gray', linestyle='--')\n",
    "\n",
    "lines = [line1, line2]\n",
    "labels = [line.get_label() for line in lines]\n",
    "\n",
    "ax1.legend(lines, labels, loc='lower left', fontsize=12)\n",
    "\n",
    "fig.tight_layout()\n",
    "plt.show()"
   ]
  },
  {
   "cell_type": "code",
   "execution_count": null,
   "id": "3d201fdc",
   "metadata": {},
   "outputs": [],
   "source": [
    "sie_585_df3 = sie_585_mon.to_dataframe(name='SIE585')\n",
    "\n",
    "print(sie_585_df3.head)"
   ]
  },
  {
   "cell_type": "code",
   "execution_count": null,
   "id": "92a0b8ae",
   "metadata": {},
   "outputs": [],
   "source": [
    "sam_585_df3 = sam_ssp585_trend.to_dataframe(name='SAM585')\n",
    "\n",
    "print(sam_585_df3.head)"
   ]
  },
  {
   "cell_type": "code",
   "execution_count": null,
   "id": "d9242a43",
   "metadata": {},
   "outputs": [],
   "source": [
    "sam_sie_df3 = pd.merge(sie_585_df3, sam_585_df3, left_index=True, right_index=True)\n",
    "\n",
    "# indexing\n",
    "sam_sie_df3.reset_index(inplace=True)\n",
    "\n",
    "print(sam_sie_df3)"
   ]
  },
  {
   "cell_type": "code",
   "execution_count": null,
   "id": "65352ac7",
   "metadata": {},
   "outputs": [],
   "source": [
    "# new df\n",
    "sam_sie_df3['time'] = pd.to_datetime(sam_sie_df3['time'].astype(str))\n",
    "\n",
    "sam_sie_df3['Year'] = sam_sie_df3['time'].dt.year\n",
    "\n",
    "# grouping by year, finding max SIE126 value within each year\n",
    "max_sie_idx2 = sam_sie_df3.groupby('Year')['SIE585'].idxmax()\n",
    "\n",
    "# new df with max SIE126 and corresponding SAM126 value\n",
    "MaxSIE_SAM_df2 = sam_sie_df3.loc[max_sie_idx2, ['Year', 'SIE585', 'SAM585']]\n",
    "\n",
    "print(MaxSIE_SAM_df2)"
   ]
  },
  {
   "cell_type": "code",
   "execution_count": null,
   "id": "1a8fda86",
   "metadata": {},
   "outputs": [],
   "source": [
    "# plotting\n",
    "MaxSIE_SAM_df2['SIE585_rolling'] = MaxSIE_SAM_df2['SIE585'].rolling(window=5, min_periods=1).mean()\n",
    "MaxSIE_SAM_df2['SAM585_rolling'] = MaxSIE_SAM_df2['SAM585'].rolling(window=5, min_periods=1).mean()\n",
    "\n",
    "fig, ax1 = plt.subplots(figsize=(16, 5))\n",
    "\n",
    "line1, = ax1.plot(MaxSIE_SAM_df2['Year'], MaxSIE_SAM_df2['SIE585_rolling'], color='darkcyan', label='Maximum Sea Ice Extent', alpha=1)\n",
    "\n",
    "ax1.fill_between(MaxSIE_SAM_df2['Year'], MaxSIE_SAM_df2['SIE585'], MaxSIE_SAM_df2['SIE585_rolling'], color='darkcyan', alpha=0.2)\n",
    "\n",
    "ax1.set_xlabel('Year', fontsize=14)\n",
    "ax1.set_ylabel('Sea Ice Extent ($10^{12}$ m$^2$)', color='black', fontsize=14)\n",
    "ax1.tick_params(axis='y', labelcolor='black')\n",
    "\n",
    "ax1.set_ylim(6, 22)\n",
    "\n",
    "ax2 = ax1.twinx()\n",
    "line2, = ax2.plot(MaxSIE_SAM_df2['Year'], MaxSIE_SAM_df2['SAM585_rolling'], color='blue', label='Southern Annular Mode', alpha=0.3)\n",
    "\n",
    "ax2.fill_between(MaxSIE_SAM_df2['Year'], MaxSIE_SAM_df2['SAM585'], MaxSIE_SAM_df2['SAM585_rolling'], color='blue', alpha=0.05)\n",
    "\n",
    "ax2.set_ylabel('Southern Annular Mode Index', color='black', fontsize=14)\n",
    "ax2.tick_params(axis='y', labelcolor='black')\n",
    "\n",
    "ax2.set_ylim(-3.2, 2)\n",
    "\n",
    "ax1.grid(axis='y')\n",
    "ax1.grid(axis='x')\n",
    "\n",
    "lines = [line1, line2]\n",
    "labels = [line.get_label() for line in lines]\n",
    "\n",
    "ax1.legend(lines, labels, loc='lower left', fontsize=12)\n",
    "\n",
    "fig.tight_layout()\n",
    "plt.show()"
   ]
  },
  {
   "cell_type": "code",
   "execution_count": null,
   "id": "e473c1ca",
   "metadata": {},
   "outputs": [],
   "source": [
    "va_file = 'https://esgf.ceda.ac.uk/thredds/dodsC/esg_cmip6/CMIP6/CMIP/MOHC/UKESM1-0-LL/historical/r1i1p1f2/Amon/va/gn/v20190406/va_Amon_UKESM1-0-LL_historical_r1i1p1f2_gn_195001-201412.nc.dods'\n",
    "ua_file='https://esgf.ceda.ac.uk/thredds/dodsC/esg_cmip6/CMIP6/CMIP/MOHC/UKESM1-0-LL/historical/r1i1p1f2/Amon/ua/gn/v20190406/ua_Amon_UKESM1-0-LL_historical_r1i1p1f2_gn_195001-201412.nc.dods'"
   ]
  },
  {
   "cell_type": "code",
   "execution_count": null,
   "id": "b1d0a0e9",
   "metadata": {},
   "outputs": [],
   "source": [
    "d1=xr.open_dataset(va_file)\n",
    "va=d1.va\n",
    "d2=xr.open_dataset(ua_file)\n",
    "ua=d2.ua\n",
    "lat=d2.lat\n",
    "lon=d2.lon-180 #change [0,360] to [-180,180]\n",
    "plev=d2.plev #pressure in Pa, from surface to top"
   ]
  }
 ],
 "metadata": {
  "kernelspec": {
   "display_name": "Python 3 (ipykernel)",
   "language": "python",
   "name": "python3"
  },
  "language_info": {
   "codemirror_mode": {
    "name": "ipython",
    "version": 3
   },
   "file_extension": ".py",
   "mimetype": "text/x-python",
   "name": "python",
   "nbconvert_exporter": "python",
   "pygments_lexer": "ipython3",
   "version": "3.11.6"
  }
 },
 "nbformat": 4,
 "nbformat_minor": 5
}
